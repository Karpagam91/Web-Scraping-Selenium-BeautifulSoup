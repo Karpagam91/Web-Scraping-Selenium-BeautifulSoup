{
 "cells": [
  {
   "cell_type": "code",
   "execution_count": 1,
   "id": "027639bd",
   "metadata": {},
   "outputs": [
    {
     "name": "stdout",
     "output_type": "stream",
     "text": [
      "Requirement already satisfied: requests in c:\\users\\balad\\appdata\\local\\programs\\python\\python37\\lib\\site-packages (2.31.0)\n",
      "Requirement already satisfied: certifi>=2017.4.17 in c:\\users\\balad\\appdata\\local\\programs\\python\\python37\\lib\\site-packages (from requests) (2023.5.7)\n",
      "Requirement already satisfied: idna<4,>=2.5 in c:\\users\\balad\\appdata\\local\\programs\\python\\python37\\lib\\site-packages (from requests) (3.4)\n",
      "Requirement already satisfied: urllib3<3,>=1.21.1 in c:\\users\\balad\\appdata\\local\\programs\\python\\python37\\lib\\site-packages (from requests) (2.0.3)\n",
      "Requirement already satisfied: charset-normalizer<4,>=2 in c:\\users\\balad\\appdata\\local\\programs\\python\\python37\\lib\\site-packages (from requests) (3.1.0)\n",
      "\n",
      "[notice] A new release of pip available: 22.2 -> 23.1.2\n",
      "[notice] To update, run: python.exe -m pip install --upgrade pip\n",
      "Note: you may need to restart the kernel to use updated packages.\n"
     ]
    }
   ],
   "source": [
    "pip install requests\n"
   ]
  },
  {
   "cell_type": "code",
   "execution_count": 2,
   "id": "6161651f",
   "metadata": {},
   "outputs": [],
   "source": [
    "# Load Necessary Libraries\n",
    "\n",
    "from bs4 import BeautifulSoup\n",
    "import pandas as pd\n",
    "import requests\n",
    "from time import sleep"
   ]
  },
  {
   "cell_type": "code",
   "execution_count": 3,
   "id": "6bd94ff9",
   "metadata": {},
   "outputs": [],
   "source": [
    "# website url\n",
    "url = \"https://books.toscrape.com/\"\n"
   ]
  },
  {
   "cell_type": "code",
   "execution_count": 4,
   "id": "2d18e56d",
   "metadata": {},
   "outputs": [],
   "source": [
    "products = []\n",
    "\n",
    "def scrap_data(currentPage_url):\n",
    "    books_data = requests.get(currentPage_url)\n",
    "\n",
    "    #get Html elements\n",
    "    html = BeautifulSoup(books_data.text,\"html.parser\")\n",
    "    \n",
    "    books = html.find_all('li', attrs={'class','col-xs-6 col-sm-4 col-md-3 col-lg-3'})\n",
    "    \n",
    "    for book in books:\n",
    "        price = book.select('.price_color')[0].get_text()\n",
    "        title = book.select('img')[0].get('alt')\n",
    "        image = book.select('img')[0].get('src')\n",
    "        availability = book.find('p', attrs={'class','instock availability'}).get_text()\n",
    "        ratings = book.select('p')[0].get('class')[1]\n",
    "        products.append({'title': title,'price': price, 'image':image, 'availability': availability, 'ratings': ratings})\n",
    "\n",
    "    return products"
   ]
  },
  {
   "cell_type": "code",
   "execution_count": 5,
   "id": "d4170040",
   "metadata": {},
   "outputs": [],
   "source": [
    "#handling pagination\n",
    "\n",
    "allBooks = []\n",
    "\n",
    "def scrape_all_books(base_url,totalPages):\n",
    "    for Pages in range(1, totalPages + 1 ):\n",
    "        currentPage_url = f\"{base_url}{Pages}.html\"\n",
    "        sleep(2)\n",
    "        books = scrap_data(currentPage_url)\n",
    "        allBooks.extend(books)\n",
    "    return books"
   ]
  },
  {
   "cell_type": "code",
   "execution_count": 6,
   "id": "5a36bcdc",
   "metadata": {},
   "outputs": [],
   "source": [
    "base_url=\"https://books.toscrape.com/catalogue/page-\"\n",
    "totalPages=50\n",
    "\n",
    "all_books = scrape_all_books(base_url, totalPages)\n",
    "\n",
    "# to store in csv file\n",
    "df = pd.DataFrame(all_books)\n",
    "df.to_csv(\"Books_S0up.csv\",index=False)"
   ]
  }
 ],
 "metadata": {
  "kernelspec": {
   "display_name": "Python 3 (ipykernel)",
   "language": "python",
   "name": "python3"
  },
  "language_info": {
   "codemirror_mode": {
    "name": "ipython",
    "version": 3
   },
   "file_extension": ".py",
   "mimetype": "text/x-python",
   "name": "python",
   "nbconvert_exporter": "python",
   "pygments_lexer": "ipython3",
   "version": "3.7.4"
  }
 },
 "nbformat": 4,
 "nbformat_minor": 5
}
