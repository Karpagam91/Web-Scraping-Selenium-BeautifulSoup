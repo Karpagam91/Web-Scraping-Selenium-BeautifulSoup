{
 "cells": [
  {
   "cell_type": "code",
   "execution_count": 1,
   "id": "f34d4038",
   "metadata": {},
   "outputs": [
    {
     "name": "stdout",
     "output_type": "stream",
     "text": [
      "Requirement already satisfied: selenium in c:\\users\\balad\\appdata\\local\\programs\\python\\python37\\lib\\site-packages (4.9.1)Note: you may need to restart the kernel to use updated packages.\n",
      "\n",
      "Requirement already satisfied: urllib3[socks]<3,>=1.26 in c:\\users\\balad\\appdata\\local\\programs\\python\\python37\\lib\\site-packages (from selenium) (2.0.3)\n",
      "Requirement already satisfied: trio~=0.17 in c:\\users\\balad\\appdata\\local\\programs\\python\\python37\\lib\\site-packages (from selenium) (0.22.0)\n",
      "Requirement already satisfied: certifi>=2021.10.8 in c:\\users\\balad\\appdata\\local\\programs\\python\\python37\\lib\\site-packages (from selenium) (2023.5.7)\n",
      "Requirement already satisfied: trio-websocket~=0.9 in c:\\users\\balad\\appdata\\local\\programs\\python\\python37\\lib\\site-packages (from selenium) (0.10.2)\n",
      "Requirement already satisfied: sniffio in c:\\users\\balad\\appdata\\local\\programs\\python\\python37\\lib\\site-packages (from trio~=0.17->selenium) (1.3.0)\n",
      "Requirement already satisfied: idna in c:\\users\\balad\\appdata\\local\\programs\\python\\python37\\lib\\site-packages (from trio~=0.17->selenium) (3.4)\n",
      "Requirement already satisfied: outcome in c:\\users\\balad\\appdata\\local\\programs\\python\\python37\\lib\\site-packages (from trio~=0.17->selenium) (1.2.0)\n",
      "Requirement already satisfied: attrs>=19.2.0 in c:\\users\\balad\\appdata\\local\\programs\\python\\python37\\lib\\site-packages (from trio~=0.17->selenium) (21.4.0)\n",
      "Requirement already satisfied: cffi>=1.14 in c:\\users\\balad\\appdata\\local\\programs\\python\\python37\\lib\\site-packages (from trio~=0.17->selenium) (1.15.1)\n",
      "Requirement already satisfied: async-generator>=1.9 in c:\\users\\balad\\appdata\\local\\programs\\python\\python37\\lib\\site-packages (from trio~=0.17->selenium) (1.10)\n",
      "Requirement already satisfied: exceptiongroup>=1.0.0rc9 in c:\\users\\balad\\appdata\\local\\programs\\python\\python37\\lib\\site-packages (from trio~=0.17->selenium) (1.1.1)\n",
      "Requirement already satisfied: sortedcontainers in c:\\users\\balad\\appdata\\local\\programs\\python\\python37\\lib\\site-packages (from trio~=0.17->selenium) (2.4.0)\n",
      "Requirement already satisfied: wsproto>=0.14 in c:\\users\\balad\\appdata\\local\\programs\\python\\python37\\lib\\site-packages (from trio-websocket~=0.9->selenium) (1.2.0)\n",
      "Requirement already satisfied: pysocks!=1.5.7,<2.0,>=1.5.6 in c:\\users\\balad\\appdata\\local\\programs\\python\\python37\\lib\\site-packages (from urllib3[socks]<3,>=1.26->selenium) (1.7.1)\n",
      "Requirement already satisfied: pycparser in c:\\users\\balad\\appdata\\local\\programs\\python\\python37\\lib\\site-packages (from cffi>=1.14->trio~=0.17->selenium) (2.21)\n",
      "Requirement already satisfied: h11<1,>=0.9.0 in c:\\users\\balad\\appdata\\local\\programs\\python\\python37\\lib\\site-packages (from wsproto>=0.14->trio-websocket~=0.9->selenium) (0.14.0)\n",
      "Requirement already satisfied: typing-extensions in c:\\users\\balad\\appdata\\local\\programs\\python\\python37\\lib\\site-packages (from h11<1,>=0.9.0->wsproto>=0.14->trio-websocket~=0.9->selenium) (4.3.0)\n",
      "\n",
      "[notice] A new release of pip available: 22.2 -> 23.1.2\n",
      "[notice] To update, run: python.exe -m pip install --upgrade pip\n"
     ]
    }
   ],
   "source": [
    "pip install selenium"
   ]
  },
  {
   "cell_type": "code",
   "execution_count": 109,
   "id": "b14ce041",
   "metadata": {},
   "outputs": [],
   "source": [
    "#import the necessary libraries\n",
    "\n",
    "from selenium import webdriver\n",
    "from selenium.webdriver.common.by import By\n",
    "from time import sleep\n",
    "import pandas as pd"
   ]
  },
  {
   "cell_type": "code",
   "execution_count": 110,
   "id": "1d11d0ba",
   "metadata": {},
   "outputs": [],
   "source": [
    "#Specifying Chrome as the default browser\n",
    "browser = webdriver.Chrome()\n",
    "\n",
    "# To maximize the window\n",
    "browser.maximize_window()"
   ]
  },
  {
   "cell_type": "code",
   "execution_count": 111,
   "id": "9707873f",
   "metadata": {},
   "outputs": [],
   "source": [
    "#Fetch data from the url what we going to scrap\n",
    "\n",
    "browser.get(\"https://books.toscrape.com/\")"
   ]
  },
  {
   "cell_type": "code",
   "execution_count": 112,
   "id": "7c4eccf4",
   "metadata": {},
   "outputs": [],
   "source": [
    "#Scrap Book details\n",
    "products = []\n",
    "\n",
    "def scrap_data(currentPage_url):\n",
    "    browser.get(currentPage_url)\n",
    "    details = browser.find_elements(By.XPATH, \"//li[@class='col-xs-6 col-sm-4 col-md-3 col-lg-3']\") \n",
    "    for element in details:\n",
    "        title = element.find_element(By.TAG_NAME, \"img\").get_attribute(\"alt\")\n",
    "        price = element.find_element(By.XPATH, \".//p[@class='price_color']\").text\n",
    "        image = element.find_element(By.TAG_NAME,\"img\").get_attribute(\"src\")   \n",
    "        availability = element.find_element(By.XPATH,\".//p[@class='instock availability']\").text\n",
    "        ratings = element.find_element(By.TAG_NAME,\"p\").get_attribute(\"class\").split()[1]\n",
    "        products.append({'title': title,'price':price,'image':image,'availability':availability,'ratings':ratings})\n",
    "        \n",
    "    return products\n",
    "        "
   ]
  },
  {
   "cell_type": "code",
   "execution_count": 113,
   "id": "2279bd9e",
   "metadata": {},
   "outputs": [],
   "source": [
    "# Handling Pagination\n",
    "\n",
    "allBooks = []\n",
    "\n",
    "def scrape_all_books(base_url,totalPages):\n",
    "    for Pages in range(1, totalPages + 1 ):\n",
    "        #print(Pages)\n",
    "        currentPage_url = f\"{base_url}{Pages}.html\"\n",
    "        sleep(2)\n",
    "        books = scrap_data(currentPage_url)\n",
    "        allBooks.extend(books)\n",
    "    return books"
   ]
  },
  {
   "cell_type": "code",
   "execution_count": 114,
   "id": "04430335",
   "metadata": {},
   "outputs": [],
   "source": [
    "base_url=\"https://books.toscrape.com/catalogue/page-\"\n",
    "totalPages=50\n",
    "\n",
    "all_books = scrape_all_books(base_url, totalPages)\n",
    "\n",
    "# to store in csv file\n",
    "df = pd.DataFrame(all_books)\n",
    "df.to_csv(\"Books.csv\",index=False)\n",
    "   \n",
    "   "
   ]
  },
  {
   "cell_type": "code",
   "execution_count": 108,
   "id": "b8dea5b4",
   "metadata": {},
   "outputs": [],
   "source": [
    "#to close the browser\n",
    "\n",
    "browser.quit()"
   ]
  }
 ],
 "metadata": {
  "kernelspec": {
   "display_name": "Python 3 (ipykernel)",
   "language": "python",
   "name": "python3"
  },
  "language_info": {
   "codemirror_mode": {
    "name": "ipython",
    "version": 3
   },
   "file_extension": ".py",
   "mimetype": "text/x-python",
   "name": "python",
   "nbconvert_exporter": "python",
   "pygments_lexer": "ipython3",
   "version": "3.7.4"
  }
 },
 "nbformat": 4,
 "nbformat_minor": 5
}
